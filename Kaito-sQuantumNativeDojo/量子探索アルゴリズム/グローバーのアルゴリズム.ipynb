{
 "cells": [
  {
   "cell_type": "markdown",
   "metadata": {},
   "source": [
    "# グローバーのアルゴリズム: 実装例\n",
    "$$\n",
    "\\def\\bra#1{\\mathinner{\\left\\langle{#1}\\right|}}\n",
    "\\def\\ket#1{\\mathinner{\\left|{#1}\\right\\rangle}}\n",
    "\\def\\braket#1#2{\\mathinner{\\left\\langle{#1}\\middle|#2\\right\\rangle}}\n",
    "$$"
   ]
  },
  {
   "cell_type": "code",
   "execution_count": 1,
   "metadata": {},
   "outputs": [],
   "source": [
    "## ライブラリのインポート\n",
    "import matplotlib.pyplot as plt\n",
    "import numpy as np\n",
    "import time\n",
    "import random\n",
    "from qulacs import QuantumState\n",
    "from qulacs.state import inner_product\n",
    "from qulacs import QuantumCircuit\n",
    "from qulacs.gate import to_matrix_gate\n",
    "from qulacs import QuantumState\n",
    "from qulacs.gate import Identity, X,Y,Z #パウリ演算子\n",
    "from qulacs.gate import H\n",
    "from qulacs.gate import RX,RY,RZ #パウリ演算子についての回転演算"
   ]
  },
  {
   "cell_type": "code",
   "execution_count": 2,
   "metadata": {},
   "outputs": [],
   "source": [
    "## 係数の絶対値の分布をプロットする関数\n",
    "def show_distribution(state,nqubits):\n",
    "    plt.bar([i for i in range(pow(2,nqubits))], abs(state.get_vector()))\n",
    "    plt.show()"
   ]
  },
  {
   "cell_type": "markdown",
   "metadata": {},
   "source": [
    "## 動作の確認\n",
    "5qubitでグローバーのアルゴリズムを実装し、動作の確認をする。\n",
    "規定の数が32個"
   ]
  },
  {
   "cell_type": "code",
   "execution_count": 3,
   "metadata": {},
   "outputs": [
    {
     "data": {
      "image/png": "[encoded data removed]",
      "text/plain": [
       "<Figure size 432x288 with 1 Axes>"
      ]
     },
     "metadata": {
      "needs_background": "light"
     },
     "output_type": "display_data"
    }
   ],
   "source": [
    "nqubits = 5\n",
    "state = QuantumState(nqubits)\n",
    "state.set_zero_state()\n",
    "\n",
    "def make_Hadamard(nqubits):\n",
    "    Hadamard = QuantumCircuit(nqubits)\n",
    "    for i in range(nqubits):\n",
    "        Hadamard.add_gate(H(i))\n",
    "    return Hadamard\n",
    "\n",
    "Hadamard = make_Hadamard(nqubits)\n",
    "Hadamard.update_quantum_state(state)\n",
    "\n",
    "show_distribution(state,nqubits)"
   ]
  },
  {
   "cell_type": "markdown",
   "metadata": {},
   "source": [
    "オラクル$U_w$を作る。今回は、$ \\ket{1...1} $を解として設定し、$\\ket{1...1}$飲みに位相(-1)をつける演算子を作る。"
   ]
  },
  {
   "cell_type": "code",
   "execution_count": 4,
   "metadata": {},
   "outputs": [],
   "source": [
    "def make_U_w(nqubits):\n",
    "    U_w = QuantumCircuit(nqubits)\n",
    "    CnZ = to_matrix_gate(Z(nqubits - 1))\n",
    "    # i - th qubitが全て1の場合だけゲートを作用\n",
    "    for i in range(nqubits - 1):\n",
    "        control_index = i\n",
    "        control_with_value = 1\n",
    "        CnZ.add_control_qubit(control_index, control_with_value)\n",
    "    U_w.add_gate(CnZ)\n",
    "    return U_w"
   ]
  },
  {
   "cell_type": "markdown",
   "metadata": {},
   "source": [
    "オラクルの作用が確認すると、確かに最後の成分だけ、位相が反転していることがわかる。"
   ]
  },
  {
   "cell_type": "code",
   "execution_count": 5,
   "metadata": {},
   "outputs": [
    {
     "name": "stdout",
     "output_type": "stream",
     "text": [
      "[ 0.1767767+0.j  0.1767767+0.j  0.1767767+0.j  0.1767767+0.j\n",
      "  0.1767767+0.j  0.1767767+0.j  0.1767767+0.j  0.1767767+0.j\n",
      "  0.1767767+0.j  0.1767767+0.j  0.1767767+0.j  0.1767767+0.j\n",
      "  0.1767767+0.j  0.1767767+0.j  0.1767767+0.j  0.1767767+0.j\n",
      "  0.1767767+0.j  0.1767767+0.j  0.1767767+0.j  0.1767767+0.j\n",
      "  0.1767767+0.j  0.1767767+0.j  0.1767767+0.j  0.1767767+0.j\n",
      "  0.1767767+0.j  0.1767767+0.j  0.1767767+0.j  0.1767767+0.j\n",
      "  0.1767767+0.j  0.1767767+0.j  0.1767767+0.j -0.1767767+0.j]\n"
     ]
    }
   ],
   "source": [
    "_ = state.copy()\n",
    "U_w = make_U_w(nqubits)\n",
    "U_w.update_quantum_state(_)\n",
    "print(_.get_vector())"
   ]
  },
  {
   "cell_type": "markdown",
   "metadata": {},
   "source": [
    "同様に、$\\ket{s}$を対象軸にした反転$U_s$を作る。以下の式が成り立つことを使う。"
   ]
  },
  {
   "cell_type": "code",
   "execution_count": 6,
   "metadata": {},
   "outputs": [],
   "source": [
    "def make_U_s(nqubits):\n",
    "    U_s = QuantumCircuit(nqubits)\n",
    "    for i in range(nqubits):\n",
    "        U_s.add_gate(H(i))\n",
    "\n",
    "    # 2|0><0| - I の実装\n",
    "    U_s.add_gate(to_matrix_gate(RZ(nqubits-1, 2*np.pi))) ## まず、位相(-1)を全ての状態に付与する。ゲート行列はarrary([[-1,0],[0,-1]])\n",
    "    U_s.add_gate( X(nqubits-1) )\n",
    "    # 全てのi-th qubitが0の場合だけZゲートを作用させる\n",
    "    CnZ = to_matrix_gate(Z(nqubits-1))\n",
    "    for i in range(nqubits-1):\n",
    "        control_index = i\n",
    "        control_with_value = 0\n",
    "        CnZ.add_control_qubit(control_index, control_with_value)\n",
    "    U_s.add_gate( CnZ )\n",
    "    U_s.add_gate( X(nqubits-1) )\n",
    "\n",
    "    for i in range(nqubits):\n",
    "        U_s.add_gate(H(i))\n",
    "\n",
    "    return U_s"
   ]
  },
  {
   "cell_type": "markdown",
   "metadata": {},
   "source": [
    "それでは、$U_sU_w$を1回だけ作用させて確率分布の変化を見る。"
   ]
  },
  {
   "cell_type": "code",
   "execution_count": 7,
   "metadata": {},
   "outputs": [
    {
     "data": {
      "image/png": "[encoded data removed]",
      "text/plain": [
       "<Figure size 432x288 with 1 Axes>"
      ]
     },
     "metadata": {
      "needs_background": "light"
     },
     "output_type": "display_data"
    }
   ],
   "source": [
    "# 初期状態の準備\n",
    "state = QuantumState(nqubits)\n",
    "state.set_zero_state()\n",
    "Hadamard.update_quantum_state(state)\n",
    "\n",
    "# U_s, U_w を作用\n",
    "U_s = make_U_s(nqubits)\n",
    "U_w.update_quantum_state(state)\n",
    "U_s.update_quantum_state(state)\n",
    "show_distribution(state, nqubits)"
   ]
  },
  {
   "cell_type": "markdown",
   "metadata": {},
   "source": [
    "これを何回か繰り返す    "
   ]
  },
  {
   "cell_type": "code",
   "execution_count": 8,
   "metadata": {},
   "outputs": [
    {
     "data": {
      "image/png": "[encoded data removed]",
      "text/plain": [
       "<Figure size 432x288 with 1 Axes>"
      ]
     },
     "metadata": {
      "needs_background": "light"
     },
     "output_type": "display_data"
    },
    {
     "name": "stdout",
     "output_type": "stream",
     "text": [
      "0.5082329989778305\n"
     ]
    },
    {
     "data": {
      "image/png": "[encoded data removed]",
      "text/plain": [
       "<Figure size 432x288 with 1 Axes>"
      ]
     },
     "metadata": {
      "needs_background": "light"
     },
     "output_type": "display_data"
    },
    {
     "name": "stdout",
     "output_type": "stream",
     "text": [
      "0.7761601777867947\n"
     ]
    },
    {
     "data": {
      "image/png": "[encoded data removed]",
      "text/plain": [
       "<Figure size 432x288 with 1 Axes>"
      ]
     },
     "metadata": {
      "needs_background": "light"
     },
     "output_type": "display_data"
    },
    {
     "name": "stdout",
     "output_type": "stream",
     "text": [
      "0.9470673343724091\n"
     ]
    },
    {
     "data": {
      "image/png": "[encoded data removed]",
      "text/plain": [
       "<Figure size 432x288 with 1 Axes>"
      ]
     },
     "metadata": {
      "needs_background": "light"
     },
     "output_type": "display_data"
    },
    {
     "name": "stdout",
     "output_type": "stream",
     "text": [
      "0.9995910741614723\n"
     ]
    }
   ],
   "source": [
    "target_state = QuantumState(nqubits)\n",
    "target_state.set_computational_basis(2**nqubits-1)\n",
    "\n",
    "# グローバーのアルゴリズムの実行\n",
    "state = QuantumState(nqubits)\n",
    "state.set_zero_state()\n",
    "\n",
    "Hadamard.update_quantum_state(state)\n",
    "\n",
    "for i in range(4):\n",
    "    U_w.update_quantum_state(state)\n",
    "    U_s.update_quantum_state(state)\n",
    "    show_distribution(state, nqubits)\n",
    "    print(np.linalg.norm(inner_product(state, target_state)))"
   ]
  },
  {
   "cell_type": "markdown",
   "metadata": {},
   "source": [
    "$k = 4$回ほどでの繰り返しで、ほぼ確率1で解の状態を得ることができた。\n",
    "\n",
    "次に、`nqubits`を大きくして、kに対する解出力確率の振る舞いをチェックする"
   ]
  },
  {
   "cell_type": "code",
   "execution_count": 9,
   "metadata": {},
   "outputs": [
    {
     "name": "stdout",
     "output_type": "stream",
     "text": [
      "maximal probability 9.997306e-01 is obtained at k = 25\n"
     ]
    },
    {
     "data": {
      "text/plain": [
       "[<matplotlib.lines.Line2D at 0x7f8d847f7d30>]"
      ]
     },
     "execution_count": 9,
     "metadata": {},
     "output_type": "execute_result"
    },
    {
     "data": {
      "image/png": "[encoded data removed]",
      "text/plain": [
       "<Figure size 432x288 with 1 Axes>"
      ]
     },
     "metadata": {
      "needs_background": "light"
     },
     "output_type": "display_data"
    }
   ],
   "source": [
    "nqubits = 10\n",
    "state = QuantumState(nqubits)\n",
    "state.set_zero_state()\n",
    "\n",
    "target_state = QuantumState(nqubits)\n",
    "target_state.set_computational_basis(2**nqubits - 1)\n",
    "\n",
    "# グローバーのアルゴリズムの実行\n",
    "Hadamard = make_Hadamard(nqubits)\n",
    "U_w = make_U_w(nqubits)\n",
    "U_s = make_U_s(nqubits)\n",
    "\n",
    "result = []\n",
    "\n",
    "state = QuantumState(nqubits)\n",
    "state.set_zero_state()\n",
    "Hadamard.update_quantum_state(state)\n",
    "for k in range(30):\n",
    "    U_w.update_quantum_state(state)\n",
    "    U_s.update_quantum_state(state)\n",
    "    # show_distribution(state, nqubits)\n",
    "    result.append(np.linalg.norm(inner_product(state, target_state)))\n",
    "\n",
    "max_k = np.argmax(result)\n",
    "print(f\"maximal probability {result[max_k]:5e} is obtained at k = {max_k+1}\")\n",
    "\n",
    "plt.plot(np.arange(1, 30+1), result, \"o-\")"
   ]
  },
  {
   "cell_type": "markdown",
   "metadata": {},
   "source": [
    "$k = 25$回でほぼ確率1でtarget状態が得られていることがわかる。\n",
    "\n",
    "また、確率のk依存性は、$\\sin$関数になっていることもわかる。\n",
    "Q本当にsin関数なのか？"
   ]
  },
  {
   "cell_type": "markdown",
   "metadata": {},
   "source": [
    "最後に、解を見つけるのに必要なkが量子ビット数についてどのように振る舞うかを見てみる。"
   ]
  },
  {
   "cell_type": "code",
   "execution_count": 10,
   "metadata": {},
   "outputs": [
    {
     "name": "stdout",
     "output_type": "stream",
     "text": [
      "nqubits=6, num_iter=7, suc_prob=9.526013e-01\n",
      "nqubits=8, num_iter=13, suc_prob=9.930691e-01\n",
      "nqubits=10, num_iter=26, suc_prob=9.963280e-01\n",
      "nqubits=12, num_iter=51, suc_prob=9.992534e-01\n",
      "nqubits=14, num_iter=101, suc_prob=9.998851e-01\n",
      "nqubits=16, num_iter=202, suc_prob=9.999368e-01\n"
     ]
    }
   ],
   "source": [
    "result = []\n",
    "min_nqubits = 6\n",
    "max_nqubits = 16\n",
    "for nqubits in range(min_nqubits, max_nqubits+1, 2):\n",
    "    ## 回路の準備\n",
    "    Hadamard = make_Hadamard(nqubits)\n",
    "    U_w= make_U_w(nqubits)\n",
    "    U_s = make_U_s(nqubits)\n",
    "\n",
    "    ## 内積を評価するために 解状態 |1...1> を作っておく\n",
    "    target_state = QuantumState(nqubits)\n",
    "    target_state.set_computational_basis(2**nqubits-1) ## 2**n_qubits-1 は 2進数で 1...1\n",
    "\n",
    "    state = QuantumState(nqubits)\n",
    "    state.set_zero_state()\n",
    "    Hadamard.update_quantum_state(state)\n",
    "\n",
    "    ## 確率が減少を始めるまで U_s U_w をかける\n",
    "    tmp = 0\n",
    "    flag = 0\n",
    "    num_iter = 0\n",
    "    while flag == 0 and num_iter <= 1000:\n",
    "        num_iter += 1\n",
    "        U_w.update_quantum_state(state)\n",
    "        U_s.update_quantum_state(state)\n",
    "        suc_prob = np.linalg.norm(inner_product(state, target_state))\n",
    "        if tmp < suc_prob:\n",
    "            tmp = suc_prob\n",
    "        else:\n",
    "            flag = 1\n",
    "    result.append( [nqubits, num_iter, suc_prob] )\n",
    "    print(f\"nqubits={nqubits}, num_iter={num_iter}, suc_prob={suc_prob:5e}\")"
   ]
  },
  {
   "cell_type": "code",
   "execution_count": 11,
   "metadata": {},
   "outputs": [
    {
     "data": {
      "text/plain": [
       "<matplotlib.legend.Legend at 0x7f8d845c1070>"
      ]
     },
     "execution_count": 11,
     "metadata": {},
     "output_type": "execute_result"
    },
    {
     "data": {
      "image/png": "[encoded data removed]",
      "text/plain": [
       "<Figure size 432x288 with 1 Axes>"
      ]
     },
     "metadata": {
      "needs_background": "light"
     },
     "output_type": "display_data"
    }
   ],
   "source": [
    "result_array = np.array(result)\n",
    "\n",
    "plt.xlim(min_nqubits-1, max_nqubits+1)\n",
    "plt.xlabel(\"n, # of qubits\", fontsize = 18)\n",
    "plt.ylabel(\"k, # of iteration\", fontsize = 18)\n",
    "plt.semilogy(result_array[:, 0], result_array[:, 1], \"-o\", label = \"experiment\")\n",
    "plt.semilogy(result_array[:,0], 0.05*2**result_array[:,0], \"-\", label=r\"$\\propto N=2^n$\")\n",
    "plt.semilogy(result_array[:,0], 2**(0.5*result_array[:,0]), \"-\", label=r\"$\\propto \\sqrt{N}=2^{n/2}$\")\n",
    "plt.legend(fontsize = 10)"
   ]
  },
  {
   "cell_type": "markdown",
   "metadata": {},
   "source": [
    "このことから、計算量が $O(N)$ではなく、$O(\\sqrt{N})$であることがわかる。"
   ]
  },
  {
   "cell_type": "code",
   "execution_count": null,
   "metadata": {},
   "outputs": [],
   "source": []
  }
 ],
 "metadata": {
  "interpreter": {
   "hash": "6702fd6e4d96b6ff6fd93842600de864b8de602f075556143b6fa88b27dc4120"
  },
  "kernelspec": {
   "display_name": "Python 3 (ipykernel)",
   "language": "python",
   "name": "python3"
  },
  "language_info": {
   "codemirror_mode": {
    "name": "ipython",
    "version": 3
   },
   "file_extension": ".py",
   "mimetype": "text/x-python",
   "name": "python",
   "nbconvert_exporter": "python",
   "pygments_lexer": "ipython3",
   "version": "3.9.7"
  }
 },
 "nbformat": 4,
 "nbformat_minor": 2
}
