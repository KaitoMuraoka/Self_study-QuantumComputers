{
 "cells": [
  {
   "cell_type": "markdown",
   "id": "b9114cd4",
   "metadata": {},
   "source": [
    "# 量子位相推定"
   ]
  },
  {
   "cell_type": "code",
   "execution_count": 2,
   "id": "95846df9",
   "metadata": {},
   "outputs": [],
   "source": [
    "import math\n",
    "import matplotlib.pyplot as plt\n",
    "%matplotlib inline\n",
    "\n",
    "# Qiskitから必要なモジュールをインポート\n",
    "from qiskit import QuantumCircuit, execute, Aer, IBMQ\n",
    "from qiskit.visualization import plot_histogram\n",
    "from qiskit.circuit import parameter"
   ]
  },
  {
   "cell_type": "markdown",
   "id": "8dd15b55",
   "metadata": {},
   "source": [
    "## 逆量子フーリエ変換関数を用意"
   ]
  },
  {
   "cell_type": "code",
   "execution_count": null,
   "id": "6f606bb1",
   "metadata": {},
   "outputs": [],
   "source": [
    "def "
   ]
  }
 ],
 "metadata": {
  "kernelspec": {
   "display_name": "Python 3 (ipykernel)",
   "language": "python",
   "name": "python3"
  },
  "language_info": {
   "codemirror_mode": {
    "name": "ipython",
    "version": 3
   },
   "file_extension": ".py",
   "mimetype": "text/x-python",
   "name": "python",
   "nbconvert_exporter": "python",
   "pygments_lexer": "ipython3",
   "version": "3.9.7"
  }
 },
 "nbformat": 4,
 "nbformat_minor": 5
}
